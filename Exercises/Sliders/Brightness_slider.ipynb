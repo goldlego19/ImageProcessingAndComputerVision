{
 "cells": [
  {
   "cell_type": "code",
   "execution_count": null,
   "id": "737560d3",
   "metadata": {},
   "outputs": [],
   "source": [
    "import cv2\n",
    "import numpy as np\n",
    "\n",
    "def nothing(x):\n",
    "    pass\n",
    "\n",
    "imBGR = cv2.imread(\"../../images/lena.jpg\") # default read as BGR\n",
    "\n",
    "imRGB_orig = cv2.cvtColor(imBGR, cv2.COLOR_BGR2RGB)\n",
    "\n",
    "cv2.namedWindow(\"Brightness Slider\")\n",
    "cv2.createTrackbar('Brightness','Brightness Slider',0,255,nothing)\n",
    "\n",
    "while True:\n",
    "    imRGB = imRGB_orig.copy()\n",
    "\n",
    "    # get key and allow exit with ESC\n",
    "    k = cv2.waitKey(1) & 0xFF\n",
    "    if k == 27:  # ESC to exit\n",
    "        break\n",
    "\n",
    "    bright = cv2.getTrackbarPos('Brightness','Brightness Slider')\n",
    "\n",
    "    # use int16 to avoid overflow when adding, then clip back to uint8\n",
    "    im_adjusted = np.clip(imRGB.astype(np.int16) + int(bright), 0, 255).astype(np.uint8)\n",
    "\n",
    "    imBGR_display = cv2.cvtColor(im_adjusted, cv2.COLOR_RGB2BGR)\n",
    "    cv2.imshow('Brightness Slider', imBGR_display)\n",
    "\n",
    "cv2.destroyAllWindows()\n"
   ]
  }
 ],
 "metadata": {
  "kernelspec": {
   "display_name": ".venv (3.12.0)",
   "language": "python",
   "name": "python3"
  },
  "language_info": {
   "codemirror_mode": {
    "name": "ipython",
    "version": 3
   },
   "file_extension": ".py",
   "mimetype": "text/x-python",
   "name": "python",
   "nbconvert_exporter": "python",
   "pygments_lexer": "ipython3",
   "version": "3.12.0"
  }
 },
 "nbformat": 4,
 "nbformat_minor": 5
}
