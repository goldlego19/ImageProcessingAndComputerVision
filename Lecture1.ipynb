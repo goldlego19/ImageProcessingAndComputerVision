{
 "cells": [
  {
   "cell_type": "code",
   "execution_count": 7,
   "id": "244c6bcd",
   "metadata": {},
   "outputs": [
    {
     "name": "stdout",
     "output_type": "stream",
     "text": [
      "My first list\n",
      "[1, 2, 3, 4]\n",
      "My First Matrix\n",
      "[[ 1  2 30  4]\n",
      " [ 8  9 40 15]\n",
      " [ 9 10 50 20]]\n",
      "15\n",
      "My matrix as an image\n"
     ]
    },
    {
     "data": {
      "text/plain": [
       "<matplotlib.image.AxesImage at 0x22afc3ac860>"
      ]
     },
     "execution_count": 7,
     "metadata": {},
     "output_type": "execute_result"
    },
    {
     "data": {
      "image/png": "[encoded data removed]",
      "text/plain": [
       "<Figure size 640x480 with 1 Axes>"
      ]
     },
     "metadata": {},
     "output_type": "display_data"
    }
   ],
   "source": [
    "import numpy as np\n",
    "import matplotlib.pyplot as plt\n",
    "from PIL import Image\n",
    "\n",
    "print('My first list')\n",
    "MyList = ([1,2,3,4])\n",
    "print(MyList)\n",
    "\n",
    "print('My First Matrix')\n",
    "#In numpy we start form the rows\n",
    "MyMatrix = np.array([[1,2,30,4], [8,9,40,15], [9,10,50,20]]) #3 rows 4 cols\n",
    "\n",
    "print(MyMatrix)\n",
    "\n",
    "print(MyMatrix[1,3])\n",
    "\n",
    "print('My matrix as an image')\n",
    "#for colors look to: https://matplotlib.org/stable/users/explain/colors/colormaps.html\n",
    "plt.imshow(MyMatrix, cmap='gray', vmin=0, vmax=255)\n"
   ]
  },
  {
   "cell_type": "code",
   "execution_count": 8,
   "id": "557f3691",
   "metadata": {},
   "outputs": [
    {
     "name": "stdout",
     "output_type": "stream",
     "text": [
      "(10, 10, 3)\n",
      "Matrix type: \n",
      "uint8\n",
      "[[[ 39  54 142]\n",
      "  [  1 184  22]\n",
      "  [ 29   5 218]\n",
      "  [136 104  24]\n",
      "  [175 202  55]\n",
      "  [ 16  99 145]\n",
      "  [199  35 192]\n",
      "  [165  55 205]\n",
      "  [ 89 248 122]\n",
      "  [209 191  70]]\n",
      "\n",
      " [[215 129 134]\n",
      "  [217 126   2]\n",
      "  [ 38  79 134]\n",
      "  [200 116 226]\n",
      "  [251 134  49]\n",
      "  [167 239  50]\n",
      "  [ 64  91 122]\n",
      "  [  2 239 170]\n",
      "  [ 40 206  89]\n",
      "  [211 182 225]]\n",
      "\n",
      " [[232 105 142]\n",
      "  [ 31 188 212]\n",
      "  [250 212 238]\n",
      "  [ 88 168 120]\n",
      "  [108 160 122]\n",
      "  [145  93  97]\n",
      "  [ 61 116  91]\n",
      "  [ 41 170  55]\n",
      "  [156 243  64]\n",
      "  [ 42  18 184]]\n",
      "\n",
      " [[110  95 145]\n",
      "  [198  72  77]\n",
      "  [ 62 149  44]\n",
      "  [159 213 152]\n",
      "  [138 214 101]\n",
      "  [241 250 226]\n",
      "  [177  44 103]\n",
      "  [249 201  14]\n",
      "  [200  13 102]\n",
      "  [102 209  63]]\n",
      "\n",
      " [[ 27 202  29]\n",
      "  [192  98 158]\n",
      "  [188 194 225]\n",
      "  [101 143 120]\n",
      "  [ 89 228 164]\n",
      "  [188  92  60]\n",
      "  [102 242 238]\n",
      "  [103  15 196]\n",
      "  [ 84 214  94]\n",
      "  [ 78  89  26]]\n",
      "\n",
      " [[ 90 242 181]\n",
      "  [168 224 235]\n",
      "  [ 84   2  18]\n",
      "  [  7 238  38]\n",
      "  [189 159  54]\n",
      "  [210  57 210]\n",
      "  [120 135  90]\n",
      "  [213   6 143]\n",
      "  [ 22   3  84]\n",
      "  [ 41  15   6]]\n",
      "\n",
      " [[130 208  70]\n",
      "  [234 104 162]\n",
      "  [ 22  75 221]\n",
      "  [252  65 125]\n",
      "  [ 73 232   3]\n",
      "  [183 120 210]\n",
      "  [126 155 216]\n",
      "  [171 202 150]\n",
      "  [122 100  20]\n",
      "  [ 39  63 207]]\n",
      "\n",
      " [[228  16  72]\n",
      "  [104 243 214]\n",
      "  [255 149   1]\n",
      "  [218 125   3]\n",
      "  [104  53  64]\n",
      "  [120 190  89]\n",
      "  [127 188 145]\n",
      "  [161 191 179]\n",
      "  [100 225 150]\n",
      "  [ 37  13 150]]\n",
      "\n",
      " [[ 96  52 114]\n",
      "  [ 99 194 230]\n",
      "  [193 140 148]\n",
      "  [ 46  36  65]\n",
      "  [ 43 204 101]\n",
      "  [  1 218 219]\n",
      "  [185  86 214]\n",
      "  [247 165 153]\n",
      "  [121 147   1]\n",
      "  [213 250 216]]\n",
      "\n",
      " [[ 38 181  95]\n",
      "  [241 165 236]\n",
      "  [121 161 170]\n",
      "  [111 187  29]\n",
      "  [ 60 116  33]\n",
      "  [121  63  83]\n",
      "  [114 224 233]\n",
      "  [190  91  68]\n",
      "  [ 11  34  74]\n",
      "  [122 166 102]]]\n",
      "My RGB matrix as an image\n"
     ]
    },
    {
     "data": {
      "image/png": "[encoded data removed]",
      "text/plain": [
       "<Figure size 640x480 with 1 Axes>"
      ]
     },
     "metadata": {},
     "output_type": "display_data"
    },
    {
     "data": {
      "image/png": "[encoded data removed]",
      "text/plain": [
       "<Figure size 640x480 with 1 Axes>"
      ]
     },
     "metadata": {},
     "output_type": "display_data"
    }
   ],
   "source": [
    "#creating and viewing an RGB matrix (rows (10), columns (10), channels (3))\n",
    "\n",
    "MyRGBMatrix = np.zeros([10,10,3], dtype='uint8')\n",
    "\n",
    "print(MyRGBMatrix.shape)\n",
    "print(f'Matrix type: \\n{MyRGBMatrix.dtype}')\n",
    "\n",
    "MyRGBMatrix = np.random.randint(0, 256, size=MyRGBMatrix.shape, dtype='uint8')\n",
    "\n",
    "print(MyRGBMatrix)\n",
    "\n",
    "print('My RGB matrix as an image')\n",
    "plt.imshow(MyRGBMatrix)\n",
    "plt.show()\n",
    "\n",
    "plt.imshow(MyRGBMatrix, vmin=0, vmax=255)\n",
    "plt.show() # Required to display more than one image\n",
    "\n",
    "# Saving the RGB matrix as an image\n",
    "save_output = Image.fromarray(MyRGBMatrix)\n",
    "save_output.save('MyFirstImage.bmp')\n"
   ]
  },
  {
   "cell_type": "code",
   "execution_count": 9,
   "id": "fc11d92b",
   "metadata": {},
   "outputs": [
    {
     "name": "stdout",
     "output_type": "stream",
     "text": [
      "[[1 2 3]\n",
      " [4 5 6]\n",
      " [7 8 9]]\n",
      "[[10 11 12]\n",
      " [ 3  2  6]\n",
      " [ 0  8  5]]\n",
      "Matrix Addidtion: \n",
      "[[11 13 15]\n",
      " [ 7  7 12]\n",
      " [ 7 16 14]]\n"
     ]
    }
   ],
   "source": [
    "#Some useful matrix operations\n",
    "\n",
    "m1 = np.array([[1,2,3], [4,5,6], [7,8,9]], dtype='uint8')\n",
    "print(m1)\n",
    "m2 = np.array([[10,11,12], [3,2,6], [0,8,5]], dtype='uint8')\n",
    "print(m2)\n",
    "\n",
    "m3 = m1 + m2\n",
    "print(f\"Matrix Addidtion: \\n{m3}\")"
   ]
  },
  {
   "cell_type": "code",
   "execution_count": 10,
   "id": "8e819012",
   "metadata": {},
   "outputs": [
    {
     "name": "stdout",
     "output_type": "stream",
     "text": [
      "Matrix Scalar Multiplication: \n",
      "[[ 2  4  6]\n",
      " [ 8 10 12]\n",
      " [14 16 18]]\n",
      "Matrix Elementwise Multiplication: \n",
      "[[10 22 36]\n",
      " [12 10 36]\n",
      " [ 0 64 45]]\n",
      "Matrix Dot Miltiplication\n",
      "[[ 16  39  39]\n",
      " [ 55 102 108]\n",
      " [ 94 165 177]]\n"
     ]
    }
   ],
   "source": [
    "# Matrix multiplication\n",
    "\n",
    "# Scalar multiplication\n",
    "m4 = m1 * 2\n",
    "print(f\"Matrix Scalar Multiplication: \\n{m4}\")\n",
    "\n",
    "elementwise = m1 * m2\n",
    "print(f\"Matrix Elementwise Multiplication: \\n{elementwise}\")\n",
    "\n",
    "dotproduct = np.dot(m1, m2)\n",
    "print(f\"Matrix Dot Miltiplication\\n{dotproduct}\")\n",
    "\n"
   ]
  },
  {
   "cell_type": "code",
   "execution_count": 11,
   "id": "16fd4d3a",
   "metadata": {},
   "outputs": [
    {
     "name": "stdout",
     "output_type": "stream",
     "text": [
      "No of dimensions:\n",
      "2\n",
      "Matrix Size:\n",
      "(3, 3)\n",
      "Element Count:\n",
      "9\n",
      "Matrix Type:\n",
      "uint8\n"
     ]
    }
   ],
   "source": [
    "# numpy matrix features\n",
    "\n",
    "print(f\"No of dimensions:\\n{m1.ndim}\")\n",
    "print(f\"Matrix Size:\\n{m1.shape}\")\n",
    "print(f\"Element Count:\\n{m1.size}\")\n",
    "print(f\"Matrix Type:\\n{m1.dtype}\")\n"
   ]
  },
  {
   "cell_type": "code",
   "execution_count": 18,
   "id": "95bba3b0",
   "metadata": {},
   "outputs": [
    {
     "name": "stdout",
     "output_type": "stream",
     "text": [
      "All Matrix\n",
      "[[1 2 3]\n",
      " [4 5 6]\n",
      " [7 8 9]]\n",
      "3rd row of matrix\n",
      "[7 8 9]\n",
      "2nd column of matrix\n",
      "[2 5 8]\n",
      "read from 2nd row onwards\n",
      "[[4 5 6]\n",
      " [7 8 9]]\n",
      "read matrix leaving out last row\n",
      "[[1 2 3]\n",
      " [4 5 6]]\n",
      "read all rows in reverse (vertical flip)\n",
      "[[7 8 9]\n",
      " [4 5 6]\n",
      " [1 2 3]]\n",
      "Matrix flipped horizontally and vertical flipped\n",
      "[[9 8 7]\n",
      " [6 5 4]\n",
      " [3 2 1]]\n",
      "change all elements of the matrix above 5 to 0\n",
      "[[1 2 3]\n",
      " [4 5 0]\n",
      " [0 0 0]]\n"
     ]
    }
   ],
   "source": [
    "#Numpy COLON notation\n",
    "\n",
    "m1 = np.array([[1,2,3], [4,5,6], [7,8,9]], dtype='uint8')\n",
    "print(\"All Matrix\")\n",
    "print(m1)\n",
    "\n",
    "print(\"3rd row of matrix\")\n",
    "print(m1[2,:])\n",
    "\n",
    "print(\"2nd column of matrix\")\n",
    "print(m1[:,1])\n",
    "\n",
    "print(\"read from 2nd row onwards\")\n",
    "print(m1[1:,:])\n",
    "\n",
    "print(\"read matrix leaving out last row\")\n",
    "print(m1[:-1,:])\n",
    "\n",
    "print(\"read all rows in reverse (vertical flip)\")\n",
    "print(m1[::-1,:])\n",
    "\n",
    "print(\"Matrix flipped horizontally and vertical flipped\")\n",
    "print(m1[::-1,::-1])\n",
    "\n",
    "print(\"change all elements of the matrix above 5 to 0\")\n",
    "m1[m1>5] = 0\n",
    "print(m1)\n"
   ]
  },
  {
   "cell_type": "code",
   "execution_count": null,
   "id": "0eb7e21e",
   "metadata": {},
   "outputs": [
    {
     "name": "stdout",
     "output_type": "stream",
     "text": [
      "My RGB matrix as an image\n"
     ]
    },
    {
     "data": {
      "image/png": "[encoded data removed]",
      "text/plain": [
       "<Figure size 640x480 with 1 Axes>"
      ]
     },
     "metadata": {},
     "output_type": "display_data"
    },
    {
     "name": "stdout",
     "output_type": "stream",
     "text": [
      "Flip image horizontally\n"
     ]
    },
    {
     "data": {
      "image/png": "[encoded data removed]",
      "text/plain": [
       "<Figure size 640x480 with 1 Axes>"
      ]
     },
     "metadata": {},
     "output_type": "display_data"
    },
    {
     "ename": "",
     "evalue": "",
     "output_type": "error",
     "traceback": [
      "\u001b[1;31mThe Kernel crashed while executing code in the current cell or a previous cell. \n",
      "\u001b[1;31mPlease review the code in the cell(s) to identify a possible cause of the failure. \n",
      "\u001b[1;31mClick <a href='https://aka.ms/vscodeJupyterKernelCrash'>here</a> for more info. \n",
      "\u001b[1;31mView Jupyter <a href='command:jupyter.viewOutput'>log</a> for further details."
     ]
    }
   ],
   "source": [
    "MyRGBMatrix = np.random.randint(0, 256, size=(10,10,3), dtype='uint8')\n",
    "\n",
    "print('My RGB matrix as an image')\n",
    "plt.imshow(MyRGBMatrix)\n",
    "plt.show()\n",
    "\n",
    "print(\"Flip image horizontally\")\n",
    "plt.imshow(MyRGBMatrix[:,::-1,:])\n",
    "plt.show()\n"
   ]
  }
 ],
 "metadata": {
  "kernelspec": {
   "display_name": ".venv (3.12.0)",
   "language": "python",
   "name": "python3"
  },
  "language_info": {
   "codemirror_mode": {
    "name": "ipython",
    "version": 3
   },
   "file_extension": ".py",
   "mimetype": "text/x-python",
   "name": "python",
   "nbconvert_exporter": "python",
   "pygments_lexer": "ipython3",
   "version": "3.12.0"
  }
 },
 "nbformat": 4,
 "nbformat_minor": 5
}
